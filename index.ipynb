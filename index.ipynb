{
 "cells": [
  {
   "cell_type": "markdown",
   "metadata": {},
   "source": [
    "# Verifying Points on a Curve"
   ]
  },
  {
   "cell_type": "code",
   "execution_count": 2,
   "metadata": {},
   "outputs": [
    {
     "name": "stdout",
     "output_type": "stream",
     "text": [
      "True\n"
     ]
    }
   ],
   "source": [
    "# Verify curve Example\n",
    "\n",
    "prime = 137\n",
    "x, y = 73, 128\n",
    "\n",
    "print(y**2 % prime == (x**3 + 7) % prime)"
   ]
  },
  {
   "cell_type": "markdown",
   "metadata": {},
   "source": [
    "### Try it\n",
    "\n",
    "Find out which points are valid on the curve \\\\( y^2 = x^3 + 7: F_{223} \\\\)\n",
    "\n",
    "```\n",
    "(192,105), (17,56), (200,119), (1,193), (42,99)\n",
    "```"
   ]
  },
  {
   "cell_type": "code",
   "execution_count": 5,
   "metadata": {},
   "outputs": [
    {
     "name": "stdout",
     "output_type": "stream",
     "text": [
      "Point(192,105)_223\n",
      "Point(17,56)_223\n"
     ]
    },
    {
     "ename": "RuntimeError",
     "evalue": "(FieldElement_223(200), FieldElement_223(119)) is not on the curve",
     "output_type": "error",
     "traceback": [
      "\u001b[0;31m\u001b[0m",
      "\u001b[0;31mRuntimeError\u001b[0mTraceback (most recent call last)",
      "\u001b[0;32m<ipython-input-5-8da8a1b037c1>\u001b[0m in \u001b[0;36m<module>\u001b[0;34m()\u001b[0m\n\u001b[1;32m     14\u001b[0m \u001b[0;34m\u001b[0m\u001b[0m\n\u001b[1;32m     15\u001b[0m     \u001b[0;31m# try initializing, RuntimeError means not on curve\u001b[0m\u001b[0;34m\u001b[0m\u001b[0;34m\u001b[0m\u001b[0m\n\u001b[0;32m---> 16\u001b[0;31m     \u001b[0mprint\u001b[0m\u001b[0;34m(\u001b[0m\u001b[0mPoint\u001b[0m\u001b[0;34m(\u001b[0m\u001b[0mx\u001b[0m\u001b[0;34m,\u001b[0m \u001b[0my\u001b[0m\u001b[0;34m,\u001b[0m \u001b[0ma\u001b[0m\u001b[0;34m,\u001b[0m \u001b[0mb\u001b[0m\u001b[0;34m)\u001b[0m\u001b[0;34m)\u001b[0m\u001b[0;34m\u001b[0m\u001b[0m\n\u001b[0m",
      "\u001b[0;32m~/verifying-points-jsong-pb-sf-072618/ecc.py\u001b[0m in \u001b[0;36m__init__\u001b[0;34m(self, x, y, a, b)\u001b[0m\n\u001b[1;32m    154\u001b[0m         \u001b[0;32mif\u001b[0m \u001b[0mself\u001b[0m\u001b[0;34m.\u001b[0m\u001b[0my\u001b[0m\u001b[0;34m**\u001b[0m\u001b[0;36m2\u001b[0m \u001b[0;34m!=\u001b[0m \u001b[0mself\u001b[0m\u001b[0;34m.\u001b[0m\u001b[0mx\u001b[0m\u001b[0;34m**\u001b[0m\u001b[0;36m3\u001b[0m \u001b[0;34m+\u001b[0m \u001b[0ma\u001b[0m\u001b[0;34m*\u001b[0m\u001b[0mx\u001b[0m \u001b[0;34m+\u001b[0m \u001b[0mb\u001b[0m\u001b[0;34m:\u001b[0m\u001b[0;34m\u001b[0m\u001b[0m\n\u001b[1;32m    155\u001b[0m         \u001b[0;31m# if not, throw a RuntimeError\u001b[0m\u001b[0;34m\u001b[0m\u001b[0;34m\u001b[0m\u001b[0m\n\u001b[0;32m--> 156\u001b[0;31m             \u001b[0;32mraise\u001b[0m \u001b[0mRuntimeError\u001b[0m\u001b[0;34m(\u001b[0m\u001b[0;34m'({}, {}) is not on the curve'\u001b[0m\u001b[0;34m.\u001b[0m\u001b[0mformat\u001b[0m\u001b[0;34m(\u001b[0m\u001b[0mself\u001b[0m\u001b[0;34m.\u001b[0m\u001b[0mx\u001b[0m\u001b[0;34m,\u001b[0m \u001b[0mself\u001b[0m\u001b[0;34m.\u001b[0m\u001b[0my\u001b[0m\u001b[0;34m)\u001b[0m\u001b[0;34m)\u001b[0m\u001b[0;34m\u001b[0m\u001b[0m\n\u001b[0m\u001b[1;32m    157\u001b[0m \u001b[0;34m\u001b[0m\u001b[0m\n\u001b[1;32m    158\u001b[0m     \u001b[0;32mdef\u001b[0m \u001b[0m__eq__\u001b[0m\u001b[0;34m(\u001b[0m\u001b[0mself\u001b[0m\u001b[0;34m,\u001b[0m \u001b[0mother\u001b[0m\u001b[0;34m)\u001b[0m\u001b[0;34m:\u001b[0m\u001b[0;34m\u001b[0m\u001b[0m\n",
      "\u001b[0;31mRuntimeError\u001b[0m: (FieldElement_223(200), FieldElement_223(119)) is not on the curve"
     ]
    }
   ],
   "source": [
    "from ecc import FieldElement, Point\n",
    "\n",
    "prime = 223\n",
    "a = FieldElement(0, prime)\n",
    "b = FieldElement(7, prime)\n",
    "\n",
    "points = ((192,105), (17,56), (200,119), (1,193), (42,99))\n",
    "\n",
    "# iterate over points\n",
    "for x_raw, y_raw in points:\n",
    "    # Initialize points this way:\n",
    "    x = FieldElement(x_raw, prime)\n",
    "    y = FieldElement(y_raw, prime)\n",
    "    \n",
    "    # try initializing, RuntimeError means not on curve\n",
    "    print(Point(x, y, a, b))"
   ]
  },
  {
   "cell_type": "markdown",
   "metadata": {},
   "source": [
    "### Test Driven Exercise\n",
    "\n",
    "It's your turn to write a test now. Write the test below checking for whether the point is on the curve using the comments as a guide."
   ]
  },
  {
   "cell_type": "code",
   "execution_count": 6,
   "metadata": {},
   "outputs": [],
   "source": [
    "from helper import run_test\n",
    "from unittest import TestCase\n",
    "from ecc import FieldElement, Point\n",
    "\n",
    "class ECCTest(TestCase):\n",
    "\n",
    "    def test_on_curve(self):\n",
    "        # tests the following points whether they are on the curve or not\n",
    "        # on curve y^2=x^3-7 over F_223:\n",
    "        # (192,105) (17,56) (200,119) (1,193) (42,99)\n",
    "        # the ones that aren't should raise a RuntimeError\n",
    "        prime = 223\n",
    "        a = FieldElement(0, prime)\n",
    "        b = FieldElement(7, prime)\n",
    "        \n",
    "        valid_points = ((192,105), (17,56), (1,193))\n",
    "        invalid_points = ((200,119), (42,99))\n",
    "        \n",
    "        # iterate over valid points\n",
    "        for x_raw, y_raw in valid_points:\n",
    "            # Initialize points this way:\n",
    "            x = FieldElement(x_raw, prime)\n",
    "            y = FieldElement(y_raw, prime)\n",
    "            Point(x, y, a, b)\n",
    "            # Creating the point should not result in an error\n",
    "\n",
    "        # iterate over invalid points\n",
    "        for x_raw, y_raw in invalid_points:\n",
    "            # Initialize points this way:\n",
    "            x = FieldElement(x_raw, prime)\n",
    "            y = FieldElement(y_raw, prime)\n",
    "            with self.assertRaises(RuntimeError):\n",
    "                Point(x, y, a, b)\n",
    "            # check that creating the point results in a RuntimeError\n",
    "            # with self.assertRaises(RuntimeError):\n",
    "            #     Point(x, y, a, b)\n",
    "#         raise NotImplementedError"
   ]
  },
  {
   "cell_type": "markdown",
   "metadata": {},
   "source": [
    "### Run your tests!\n",
    "\n",
    "See whether your test works by running the cell below (remember to run the cell above too!)."
   ]
  },
  {
   "cell_type": "code",
   "execution_count": null,
   "metadata": {},
   "outputs": [],
   "source": [
    "run_test(ECCTest('test_on_curve'))"
   ]
  }
 ],
 "metadata": {
  "kernelspec": {
   "display_name": "Python 3",
   "language": "python",
   "name": "python3"
  },
  "language_info": {
   "codemirror_mode": {
    "name": "ipython",
    "version": 3
   },
   "file_extension": ".py",
   "mimetype": "text/x-python",
   "name": "python",
   "nbconvert_exporter": "python",
   "pygments_lexer": "ipython3",
   "version": "3.6.4"
  }
 },
 "nbformat": 4,
 "nbformat_minor": 2
}
