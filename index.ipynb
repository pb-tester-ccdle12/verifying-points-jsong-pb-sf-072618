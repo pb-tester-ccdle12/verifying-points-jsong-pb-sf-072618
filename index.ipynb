{
 "cells": [
  {
   "cell_type": "markdown",
   "metadata": {},
   "source": [
    "# Verifying Points on a Curve"
   ]
  },
  {
   "cell_type": "code",
   "execution_count": 2,
   "metadata": {},
   "outputs": [
    {
     "name": "stdout",
     "output_type": "stream",
     "text": [
      "True\n"
     ]
    }
   ],
   "source": [
    "# Verify curve Example\n",
    "\n",
    "prime = 137\n",
    "x, y = 73, 128\n",
    "\n",
    "print(y**2 % prime == (x**3 + 7) % prime)"
   ]
  },
  {
   "cell_type": "markdown",
   "metadata": {},
   "source": [
    "### Try it\n",
    "\n",
    "Find out which points are valid on the curve \\\\( y^2 = x^3 + 7: F_{223} \\\\)\n",
    "\n",
    "```\n",
    "(192,105), (17,56), (200,119), (1,193), (42,99)\n",
    "```"
   ]
  },
  {
   "cell_type": "code",
   "execution_count": 9,
   "metadata": {},
   "outputs": [
    {
     "name": "stdout",
     "output_type": "stream",
     "text": [
      "On curve\n",
      "On curve\n",
      "Not on curve\n",
      "On curve\n",
      "Not on curve\n"
     ]
    }
   ],
   "source": [
    "from ecc import FieldElement, Point\n",
    "\n",
    "prime = 223\n",
    "a = FieldElement(0, prime)\n",
    "b = FieldElement(7, prime)\n",
    "\n",
    "points = ((192,105), (17,56), (200,119), (1,193), (42,99))\n",
    "\n",
    "# iterate over points\n",
    "for x_raw, y_raw in points:\n",
    "    # Initialize points this way:\n",
    "    x = FieldElement(x_raw, prime)\n",
    "    y = FieldElement(y_raw, prime)\n",
    "    \n",
    "    # try initializing, RuntimeError means not on curve\n",
    "    try:\n",
    "        p = Point(x, y, a, b)\n",
    "        print('On curve')\n",
    "    except RuntimeError:\n",
    "        print('Not on curve')"
   ]
  },
  {
   "cell_type": "markdown",
   "metadata": {},
   "source": [
    "### Test Driven Exercise\n",
    "\n",
    "It's your turn to write a test now. Write the test below checking for whether the point is on the curve using the comments as a guide."
   ]
  },
  {
   "cell_type": "code",
   "execution_count": 6,
   "metadata": {},
   "outputs": [],
   "source": [
    "from helper import run_test\n",
    "from unittest import TestCase\n",
    "from ecc import FieldElement, Point\n",
    "\n",
    "class ECCTest(TestCase):\n",
    "\n",
    "    def test_on_curve(self):\n",
    "        # tests the following points whether they are on the curve or not\n",
    "        # on curve y^2=x^3-7 over F_223:\n",
    "        # (192,105) (17,56) (200,119) (1,193) (42,99)\n",
    "        # the ones that aren't should raise a RuntimeError\n",
    "        prime = 223\n",
    "        a = FieldElement(0, prime)\n",
    "        b = FieldElement(7, prime)\n",
    "        \n",
    "        valid_points = ((192,105), (17,56), (1,193))\n",
    "        invalid_points = ((200,119), (42,99))\n",
    "        \n",
    "        # iterate over valid points\n",
    "        for x_raw, y_raw in valid_points:\n",
    "            # Initialize points this way:\n",
    "            x = FieldElement(x_raw, prime)\n",
    "            y = FieldElement(y_raw, prime)\n",
    "            # Creating the point should not result in an error\n",
    "            Point(x, y, a, b)\n",
    "\n",
    "        # iterate over invalid points\n",
    "        for x_raw, y_raw in invalid_points:\n",
    "            # Initialize points this way:\n",
    "            x = FieldElement(x_raw, prime)\n",
    "            y = FieldElement(y_raw, prime)\n",
    "            with self.assertRaises(RuntimeError):\n",
    "                Point(x, y, a, b)\n"
   ]
  },
  {
   "cell_type": "markdown",
   "metadata": {},
   "source": [
    "### Run your tests!\n",
    "\n",
    "See whether your test works by running the cell below (remember to run the cell above too!)."
   ]
  },
  {
   "cell_type": "code",
   "execution_count": 7,
   "metadata": {},
   "outputs": [
    {
     "name": "stderr",
     "output_type": "stream",
     "text": [
      ".\n",
      "----------------------------------------------------------------------\n",
      "Ran 1 test in 0.002s\n",
      "\n",
      "OK\n"
     ]
    }
   ],
   "source": [
    "run_test(ECCTest('test_on_curve'))"
   ]
  },
  {
   "cell_type": "code",
   "execution_count": null,
   "metadata": {},
   "outputs": [],
   "source": []
  }
 ],
 "metadata": {
  "kernelspec": {
   "display_name": "Python 3",
   "language": "python",
   "name": "python3"
  },
  "language_info": {
   "codemirror_mode": {
    "name": "ipython",
    "version": 3
   },
   "file_extension": ".py",
   "mimetype": "text/x-python",
   "name": "python",
   "nbconvert_exporter": "python",
   "pygments_lexer": "ipython3",
   "version": "3.6.4"
  }
 },
 "nbformat": 4,
 "nbformat_minor": 2
}
