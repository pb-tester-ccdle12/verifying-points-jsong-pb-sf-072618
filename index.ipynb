{
 "cells": [
  {
   "cell_type": "markdown",
   "metadata": {},
   "source": [
    "# Verifying Points on a Curve"
   ]
  },
  {
   "cell_type": "code",
   "execution_count": null,
   "metadata": {},
   "outputs": [],
   "source": [
    "# Verify curve Example\n",
    "\n",
    "prime = 137\n",
    "x, y = 73, 128\n",
    "\n",
    "print(y**2 % prime == (x**3 + 7) % prime)"
   ]
  },
  {
   "cell_type": "markdown",
   "metadata": {},
   "source": [
    "### Try it\n",
    "\n",
    "Find out which points are valid on the curve \\\\( y^2 = x^3 + 7: F_{223} \\\\)\n",
    "\n",
    "```\n",
    "(192,105), (17,56), (200,119), (1,193), (42,99)\n",
    "```"
   ]
  },
  {
   "cell_type": "code",
   "execution_count": null,
   "metadata": {},
   "outputs": [],
   "source": [
    "from ecc import FieldElement, Point\n",
    "\n",
    "prime = 223\n",
    "a = FieldElement(0, prime)\n",
    "b = FieldElement(7, prime)\n",
    "\n",
    "points = ((192,105), (17,56), (200,119), (1,193), (42,99))\n",
    "\n",
    "# iterate over points\n",
    "for x_raw, y_raw in points:\n",
    "    # Initialize points this way:\n",
    "    # x = FieldElement(x_raw, prime)\n",
    "    # y = FieldElement(y_raw, prime)\n",
    "    # try initializing, RuntimeError means not on curve\n",
    "    # p = Point(x, y, a, b)"
   ]
  },
  {
   "cell_type": "markdown",
   "metadata": {},
   "source": [
    "### Test Driven Exercise\n",
    "\n",
    "It's your turn to write a test now. Write the test below checking for whether the point is on the curve using the comments as a guide."
   ]
  },
  {
   "cell_type": "code",
   "execution_count": null,
   "metadata": {},
   "outputs": [],
   "source": [
    "from helper import run_test\n",
    "from unittest import TestCase\n",
    "from ecc import FieldElement, Point\n",
    "\n",
    "class ECCTest(TestCase):\n",
    "\n",
    "    def test_on_curve(self):\n",
    "        # tests the following points whether they are on the curve or not\n",
    "        # on curve y^2=x^3-7 over F_223:\n",
    "        # (192,105) (17,56) (200,119) (1,193) (42,99)\n",
    "        # the ones that aren't should raise a RuntimeError\n",
    "        prime = 223\n",
    "        a = FieldElement(0, prime)\n",
    "        b = FieldElement(7, prime)\n",
    "        \n",
    "        valid_points = ((192,105), (17,56), (1,193))\n",
    "        invalid_points = ((200,119), (42,99))\n",
    "        \n",
    "        # iterate over valid points\n",
    "            # Initialize points this way:\n",
    "            # x = FieldElement(x_raw, prime)\n",
    "            # y = FieldElement(y_raw, prime)\n",
    "            # Point(x, y, a, b)\n",
    "            # Creating the point should not result in an error\n",
    "\n",
    "        # iterate over invalid points\n",
    "            # Initialize points this way:\n",
    "            # x = FieldElement(x_raw, prime)\n",
    "            # y = FieldElement(y_raw, prime)\n",
    "            # Point(x, y, a, b)\n",
    "            # check that creating the point results in a RuntimeError\n",
    "            # with self.assertRaises(RuntimeError):\n",
    "            #     Point(x, y, a, b)\n",
    "        raise NotImplementedError"
   ]
  },
  {
   "cell_type": "markdown",
   "metadata": {},
   "source": [
    "### Run your tests!\n",
    "\n",
    "See whether your test works by running the cell below (remember to run the cell above too!)."
   ]
  },
  {
   "cell_type": "code",
   "execution_count": null,
   "metadata": {},
   "outputs": [],
   "source": [
    "run_test(ECCTest('test_on_curve'))"
   ]
  }
 ],
 "metadata": {
  "kernelspec": {
   "display_name": "Python 3",
   "language": "python",
   "name": "python3"
  },
  "language_info": {
   "codemirror_mode": {
    "name": "ipython",
    "version": 3
   },
   "file_extension": ".py",
   "mimetype": "text/x-python",
   "name": "python",
   "nbconvert_exporter": "python",
   "pygments_lexer": "ipython3",
   "version": "3.6.4"
  }
 },
 "nbformat": 4,
 "nbformat_minor": 2
}
